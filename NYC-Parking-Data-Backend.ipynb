{
 "cells": [
  {
   "cell_type": "code",
   "execution_count": 258,
   "id": "b9ee7d34",
   "metadata": {},
   "outputs": [],
   "source": [
    "import geopandas as gpd\n",
    "import pandas as pd\n",
    "import numpy as np\n",
    "import geopy as gp\n",
    "import matplotlib\n",
    "import shapely.geometry\n",
    "import shapely.ops\n",
    "import time\n",
    "import pyproj # Used to convert coordinate projections\n",
    "import re # Functions for regular expressions\n",
    "pd.set_option('mode.chained_assignment', None)"
   ]
  },
  {
   "cell_type": "markdown",
   "id": "70647d03",
   "metadata": {},
   "source": [
    "# Process Roadbed Data"
   ]
  },
  {
   "cell_type": "code",
   "execution_count": 219,
   "id": "4d5da0b2",
   "metadata": {},
   "outputs": [],
   "source": [
    "# File name\n",
    "shape = \"NYC Street Centerline (CSCL)/geo_export_15a738be-7dbc-4a0f-826d-9bd8517b040a.shp\"\n",
    "\n",
    "# Read in the shape file\n",
    "shapeGDF = gpd.read_file(shape)"
   ]
  },
  {
   "cell_type": "code",
   "execution_count": 221,
   "id": "e7fe7cc1",
   "metadata": {},
   "outputs": [
    {
     "data": {
      "text/plain": [
       "array(['PACIFIC ST', 'DEAN ST', 'ST MARKS AVE', 'NEW YORK AVE',\n",
       "       'NOSTRAND AVE', 'BERGEN ST', 'ALBANY AVE', 'KINGSTON AVE',\n",
       "       'BROOKLYN AVE', 'REVERE PL'], dtype=object)"
      ]
     },
     "execution_count": 221,
     "metadata": {},
     "output_type": "execute_result"
    }
   ],
   "source": [
    "# Create a list of streets to limit the data set - the shapefile is large and any row operation is time consuming\n",
    "CrownHtsSts = ('ATLANTIC AV', 'PACIFIC ST', 'DEAN ST', 'BERGEN ST', 'ST MARKS AVE', 'ALBANY AVE', 'REVERE PL', 'KINGSTON AVE', 'BROOKLYN AVE', 'NEW YORK AVE', 'NOSTRAND AVE')\n",
    "\n",
    "# Limit the data set to brooklyn and the streets in the list above\n",
    "chStsGDF = shapeGDF[(shapeGDF.borocode == \"3\") & (shapeGDF.st_label.isin(CrownHtsSts))]\n",
    "chStsGDF.full_stree.unique()"
   ]
  },
  {
   "cell_type": "code",
   "execution_count": 256,
   "id": "e7d32791",
   "metadata": {},
   "outputs": [],
   "source": [
    "# Reverse the coordinates to match longitude and latitude and signs GeoDataFrame\n",
    "chStsGDF['geometry'] = chStsGDF['geometry'].map(lambda linestring: shapely.ops.transform(lambda x, y: (y, x), linestring))"
   ]
  },
  {
   "cell_type": "markdown",
   "id": "2ee0860d",
   "metadata": {},
   "source": [
    "# Process Street Sign Data"
   ]
  },
  {
   "cell_type": "code",
   "execution_count": 34,
   "id": "4ccaf3ef",
   "metadata": {},
   "outputs": [],
   "source": [
    "# File names\n",
    "signsfil = \"Street_Sign_Work_Orders.csv\"\n",
    "\n",
    "# Read in the signs file\n",
    "signsDF = pd.read_csv(signsfil, sep=',', header=0)"
   ]
  },
  {
   "cell_type": "code",
   "execution_count": 224,
   "id": "af3951d6",
   "metadata": {},
   "outputs": [],
   "source": [
    "# Create a list of street names to limit the data frame to\n",
    "CrownHtsSts = ('ATLANTIC AVENUE', 'PACIFIC STREET', 'DEAN STREET', 'BERGEN STREET', 'ST MARKS AVENUE', 'ALBANY AVENUE', 'REVERE PLACE', 'KINGSTON AVENUE', 'BROOKLYN AVENUE', 'NEW YORK AVENUE', 'NOSTRAND AVENUE')\n",
    "\n",
    "# Limit the data set to Brooklyn, the selected streets, current sign and signs with sanitation parking restrictions\n",
    "chSignsDF = signsDF[(signsDF.borough == \"Brooklyn\") & (signsDF.on_street.isin(CrownHtsSts)) & ((signsDF.from_street.isin(CrownHtsSts)) | (signsDF.from_street.isin(CrownHtsSts))) & (signsDF.record_type == \"Current\") & (signsDF.sign_description.str.contains(\"SANITATION BROOM SYMBOL\"))]"
   ]
  },
  {
   "cell_type": "code",
   "execution_count": 36,
   "id": "c42c55c9",
   "metadata": {},
   "outputs": [
    {
     "data": {
      "text/plain": [
       "order_number                   object\n",
       "record_type                    object\n",
       "order_type                     object\n",
       "borough                        object\n",
       "on_street                      object\n",
       "on_street_suffix               object\n",
       "from_street                    object\n",
       "from_street_suffix             object\n",
       "to_street                      object\n",
       "to_street_suffix               object\n",
       "side_of_street                 object\n",
       "order_completed_on_date        object\n",
       "sign_code                      object\n",
       "sign_description               object\n",
       "sign_size                      object\n",
       "sign_design_voided_on_date     object\n",
       "sign_location                  object\n",
       "distance_from_intersection      int64\n",
       "arrow_direction                object\n",
       "facing_direction               object\n",
       "sheeting_type                  object\n",
       "support                        object\n",
       "sign_notes                     object\n",
       "sign_x_coord                  float64\n",
       "sign_y_coord                  float64\n",
       "dtype: object"
      ]
     },
     "execution_count": 36,
     "metadata": {},
     "output_type": "execute_result"
    }
   ],
   "source": [
    "# Check column types\n",
    "chSignsDF.dtypes"
   ]
  },
  {
   "cell_type": "code",
   "execution_count": 226,
   "id": "96a4669f",
   "metadata": {},
   "outputs": [
    {
     "data": {
      "text/html": [
       "<div>\n",
       "<style scoped>\n",
       "    .dataframe tbody tr th:only-of-type {\n",
       "        vertical-align: middle;\n",
       "    }\n",
       "\n",
       "    .dataframe tbody tr th {\n",
       "        vertical-align: top;\n",
       "    }\n",
       "\n",
       "    .dataframe thead th {\n",
       "        text-align: right;\n",
       "    }\n",
       "</style>\n",
       "<table border=\"1\" class=\"dataframe\">\n",
       "  <thead>\n",
       "    <tr style=\"text-align: right;\">\n",
       "      <th>side_of_street</th>\n",
       "      <th>E</th>\n",
       "      <th>N</th>\n",
       "      <th>S</th>\n",
       "      <th>W</th>\n",
       "    </tr>\n",
       "    <tr>\n",
       "      <th>on_street</th>\n",
       "      <th></th>\n",
       "      <th></th>\n",
       "      <th></th>\n",
       "      <th></th>\n",
       "    </tr>\n",
       "  </thead>\n",
       "  <tbody>\n",
       "    <tr>\n",
       "      <th>ALBANY AVENUE</th>\n",
       "      <td>15</td>\n",
       "      <td>0</td>\n",
       "      <td>0</td>\n",
       "      <td>10</td>\n",
       "    </tr>\n",
       "    <tr>\n",
       "      <th>BERGEN STREET</th>\n",
       "      <td>0</td>\n",
       "      <td>19</td>\n",
       "      <td>21</td>\n",
       "      <td>0</td>\n",
       "    </tr>\n",
       "    <tr>\n",
       "      <th>BROOKLYN AVENUE</th>\n",
       "      <td>13</td>\n",
       "      <td>0</td>\n",
       "      <td>0</td>\n",
       "      <td>11</td>\n",
       "    </tr>\n",
       "    <tr>\n",
       "      <th>DEAN STREET</th>\n",
       "      <td>0</td>\n",
       "      <td>28</td>\n",
       "      <td>25</td>\n",
       "      <td>0</td>\n",
       "    </tr>\n",
       "    <tr>\n",
       "      <th>KINGSTON AVENUE</th>\n",
       "      <td>11</td>\n",
       "      <td>0</td>\n",
       "      <td>0</td>\n",
       "      <td>14</td>\n",
       "    </tr>\n",
       "    <tr>\n",
       "      <th>NEW YORK AVENUE</th>\n",
       "      <td>10</td>\n",
       "      <td>0</td>\n",
       "      <td>0</td>\n",
       "      <td>12</td>\n",
       "    </tr>\n",
       "    <tr>\n",
       "      <th>NOSTRAND AVENUE</th>\n",
       "      <td>2</td>\n",
       "      <td>0</td>\n",
       "      <td>0</td>\n",
       "      <td>5</td>\n",
       "    </tr>\n",
       "    <tr>\n",
       "      <th>PACIFIC STREET</th>\n",
       "      <td>0</td>\n",
       "      <td>28</td>\n",
       "      <td>26</td>\n",
       "      <td>0</td>\n",
       "    </tr>\n",
       "    <tr>\n",
       "      <th>REVERE PLACE</th>\n",
       "      <td>2</td>\n",
       "      <td>0</td>\n",
       "      <td>0</td>\n",
       "      <td>2</td>\n",
       "    </tr>\n",
       "    <tr>\n",
       "      <th>ST MARKS AVENUE</th>\n",
       "      <td>0</td>\n",
       "      <td>24</td>\n",
       "      <td>22</td>\n",
       "      <td>0</td>\n",
       "    </tr>\n",
       "  </tbody>\n",
       "</table>\n",
       "</div>"
      ],
      "text/plain": [
       "side_of_street    E   N   S   W\n",
       "on_street                      \n",
       "ALBANY AVENUE    15   0   0  10\n",
       "BERGEN STREET     0  19  21   0\n",
       "BROOKLYN AVENUE  13   0   0  11\n",
       "DEAN STREET       0  28  25   0\n",
       "KINGSTON AVENUE  11   0   0  14\n",
       "NEW YORK AVENUE  10   0   0  12\n",
       "NOSTRAND AVENUE   2   0   0   5\n",
       "PACIFIC STREET    0  28  26   0\n",
       "REVERE PLACE      2   0   0   2\n",
       "ST MARKS AVENUE   0  24  22   0"
      ]
     },
     "execution_count": 226,
     "metadata": {},
     "output_type": "execute_result"
    }
   ],
   "source": [
    "# Check the relationship between on_street and side_of_street\n",
    "pd.crosstab(chSignsDF.on_street, chSignsDF.side_of_street)\n",
    "# All streets take non-zero values for E W or N S - as expected"
   ]
  },
  {
   "cell_type": "code",
   "execution_count": 227,
   "id": "1c9e1ea3",
   "metadata": {},
   "outputs": [
    {
     "data": {
      "text/plain": [
       "on_street        from_street      to_street      \n",
       "ALBANY AVENUE    ATLANTIC AVENUE  PACIFIC STREET      3\n",
       "                 BERGEN STREET    PARK PLACE          8\n",
       "                                  ST MARKS AVENUE     2\n",
       "                 DEAN STREET      BERGEN STREET       4\n",
       "                 PACIFIC STREET   DEAN STREET         5\n",
       "                 ST MARKS AVENUE  PROSPECT PLACE      3\n",
       "BERGEN STREET    ALBANY AVENUE    KINGSTON AVENUE     5\n",
       "                                  REVERE PLACE        4\n",
       "                 KINGSTON AVENUE  BROOKLYN AVENUE    11\n",
       "                 NEW YORK AVENUE  NOSTRAND AVENUE     9\n",
       "                 NOSTRAND AVENUE  ROGERS AVENUE       9\n",
       "                 REVERE PLACE     KINGSTON AVENUE     2\n",
       "BROOKLYN AVENUE  ATLANTIC AVENUE  PACIFIC STREET      4\n",
       "                 BERGEN STREET    ST MARKS AVENUE     5\n",
       "                 DEAN STREET      BERGEN STREET       4\n",
       "                 PACIFIC STREET   DEAN STREET         4\n",
       "                 ST MARKS AVENUE  PROSPECT PLACE      7\n",
       "DEAN STREET      ALBANY AVENUE    TROY AVENUE        10\n",
       "                 BROOKLYN AVENUE  KINGSTON AVENUE    11\n",
       "                 KINGSTON AVENUE  ALBANY AVENUE       6\n",
       "                                  REVERE PLACE        1\n",
       "                 NEW YORK AVENUE  BROOKLYN AVENUE    11\n",
       "                 NOSTRAND AVENUE  NEW YORK AVENUE    10\n",
       "                 REVERE PLACE     ALBANY AVENUE       4\n",
       "KINGSTON AVENUE  ATLANTIC AVENUE  HERKIMER STREET     5\n",
       "                 BERGEN STREET    DEAN STREET         5\n",
       "                 DEAN STREET      PACIFIC STREET      4\n",
       "                 PACIFIC STREET   ATLANTIC AVENUE     5\n",
       "                 ST MARKS AVENUE  BERGEN STREET       6\n",
       "NEW YORK AVENUE  ATLANTIC AVENUE  HERKIMER STREET     6\n",
       "                 BERGEN STREET    DEAN STREET         5\n",
       "                 DEAN STREET      PACIFIC STREET      4\n",
       "                 PACIFIC STREET   ATLANTIC AVENUE     3\n",
       "                 ST MARKS AVENUE  BERGEN STREET       4\n",
       "NOSTRAND AVENUE  BERGEN STREET    ST MARKS AVENUE     1\n",
       "                 DEAN STREET      BERGEN STREET       4\n",
       "                 PACIFIC STREET   DEAN STREET         2\n",
       "PACIFIC STREET   ALBANY AVENUE    KINGSTON AVENUE    10\n",
       "                 BROOKLYN AVENUE  NEW YORK AVENUE    10\n",
       "                 KINGSTON AVENUE  BROOKLYN AVENUE    11\n",
       "                 NEW YORK AVENUE  NOSTRAND AVENUE    10\n",
       "                 NOSTRAND AVENUE  BEDFORD AVENUE     13\n",
       "REVERE PLACE     BERGEN STREET    DEAN STREET         4\n",
       "ST MARKS AVENUE  ALBANY AVENUE    DEAD END            2\n",
       "                 BROOKLYN AVENUE  KINGSTON AVENUE    12\n",
       "                 KINGSTON AVENUE  DEAD END            8\n",
       "                 NEW YORK AVENUE  BKLYN AVENUE        5\n",
       "                                  BROOKLYN AVENUE     8\n",
       "                 NOSTRAND AVENUE  NEW YORK AVENUE    11\n",
       "dtype: int64"
      ]
     },
     "execution_count": 227,
     "metadata": {},
     "output_type": "execute_result"
    }
   ],
   "source": [
    "# Check counts of unique values of on_street, from_street and to_street\n",
    "chSignsDF.groupby(['on_street', 'from_street', 'to_street']).size()"
   ]
  },
  {
   "cell_type": "code",
   "execution_count": 259,
   "id": "e2425b5e",
   "metadata": {},
   "outputs": [],
   "source": [
    "# Create dictionary to replace values in listed columns\n",
    "replDict = {'AVENUE':'AVE', 'STREET':'ST', 'PLACE':'PL', 'BKLYN':'BROOKLYN'}\n",
    "replCols = ('on_street', 'to_street', 'from_street')\n",
    "\n",
    "# Replace street type with abbreviation in on_street, from_street and to_street to match the convention in the shapefile\n",
    "for col in replCols:\n",
    "    chSignsDF[f'{col}'] = chSignsDF[f'{col}'].replace(replDict, regex=True)"
   ]
  },
  {
   "cell_type": "code",
   "execution_count": 194,
   "id": "fe5364c6",
   "metadata": {},
   "outputs": [
    {
     "data": {
      "text/plain": [
       "0      POINT (40.67783 -73.95254)\n",
       "1      POINT (40.67767 -73.95014)\n",
       "2      POINT (40.67770 -73.95060)\n",
       "3      POINT (40.67778 -73.95187)\n",
       "4      POINT (40.67780 -73.95219)\n",
       "                  ...            \n",
       "295    POINT (40.67669 -73.94986)\n",
       "296    POINT (40.67391 -73.93896)\n",
       "297    POINT (40.67697 -73.94711)\n",
       "298    POINT (40.67422 -73.93893)\n",
       "299    POINT (40.67449 -73.93890)\n",
       "Name: geometry, Length: 300, dtype: geometry"
      ]
     },
     "execution_count": 194,
     "metadata": {},
     "output_type": "execute_result"
    }
   ],
   "source": [
    "# Create a transformer to convert form EPSG:2263 to EPSG:4326\n",
    "transformer = pyproj.Transformer.from_crs(\"epsg:2263\", \"epsg:4326\")\n",
    "\n",
    "# Transform x and y coordinates and assign to columns\n",
    "chSignsDF['coord_x_t'], chSignsDF['coord_y_t'] = transformer.transform(chSignsDF.sign_x_coord, chSignsDF.sign_y_coord)\n",
    "\n",
    "# Convert from DataFrame to GeoDataFrame using EPSG:4326 as the CRS\n",
    "chSignsGDF = gpd.GeoDataFrame(chSignsDF, geometry=gpd.points_from_xy(chSignsDF.coord_x_t, chSignsDF.coord_y_t), crs = 4326)"
   ]
  },
  {
   "cell_type": "code",
   "execution_count": 195,
   "id": "17429da8",
   "metadata": {},
   "outputs": [],
   "source": [
    "# Create dictionary to detect days of the week in the sign description\n",
    "days = {'monday':'MONDAY', 'tuesday':'TUESDAY', 'wednesday':'WEDNESDAY', 'thursday':'THURSDAY', 'friday':'FRIDAY', 'saturday':'SATURDAY', 'sunday':'SUNDAY'}\n",
    "\n",
    "# Create dummy variables to indicate what days the parking restrictions\n",
    "for (key,value) in days.items():\n",
    "    # Indicate whether the day appears on the sign\n",
    "    chSignsGDF[f'{key}'] = np.where(chSignsGDF.sign_description.str.contains(value), 1, 0)\n",
    "    # Reverse the dummy variable values when the word \"EXCEPT\" appears\n",
    "    chSignsGDF[f'{key}'] = np.where(chSignsGDF.sign_description.str.contains(\"EXCEPT\"), ((chSignsGDF[f'{key}']-1) ** 2), chSignsGDF[f'{key}'])"
   ]
  },
  {
   "cell_type": "code",
   "execution_count": 196,
   "id": "35f0a976",
   "metadata": {},
   "outputs": [],
   "source": [
    "# Create variable for start time of restrictions\n",
    "chSignsGDF['time_start'] = chSignsGDF.sign_description.str.extract(r'(\\s.{1,5}\\wM-)').replace('-|\\s','', regex = True)\n",
    "chSignsGDF['time_start'] = (np.where(chSignsGDF.time_start.str.contains(':'), \n",
    "                                        chSignsGDF.time_start, \n",
    "                                        np.where(chSignsGDF.time_start.str.find('M')-1 == 1, \n",
    "                                                 (chSignsGDF.time_start.str[:1] + \":00\" + chSignsGDF.time_start.str[-2:]),\n",
    "                                                 (chSignsGDF.time_start.str[:2] + \":00\" + chSignsGDF.time_start.str[-2:]))))\n",
    "chSignsGDF['time_start'] = pd.to_datetime(chSignsGDF.time_start, format='%I:%M%p').dt.time\n",
    "\n",
    "# Create variable for end time of restrictions\n",
    "chSignsGDF['time_end'] = chSignsGDF.sign_description.str.extract(r'(-.{1,5}\\wM\\s)').replace('-|\\s','', regex = True)\n",
    "chSignsGDF['time_end'] = (np.where(chSignsGDF.time_end.str.contains(':'), \n",
    "                                        chSignsGDF.time_end, \n",
    "                                        np.where(chSignsGDF.time_end.str.find('M')-1 == 1,  \n",
    "                                                 (chSignsGDF.time_end.str[:1] + \":00\" + chSignsGDF.time_end.str[-2:]),\n",
    "                                                 (chSignsGDF.time_end.str[:2] + \":00\" + chSignsGDF.time_end.str[-2:]))))\n",
    "chSignsGDF['time_end'] = pd.to_datetime(chSignsGDF.time_end, format='%I:%M%p').dt.time"
   ]
  },
  {
   "cell_type": "markdown",
   "id": "72a09a18",
   "metadata": {},
   "source": [
    "# Link the Roadbed and Street Sign Datasets"
   ]
  },
  {
   "cell_type": "code",
   "execution_count": 261,
   "id": "9ae0c6bb",
   "metadata": {},
   "outputs": [],
   "source": [
    "# Project the datasets to a distance CRS\n",
    "chSignsGDF = chSignsGDF.to_crs(3857)\n",
    "chStsGDF = chStsGDF.to_crs(3857)\n",
    "\n",
    "# Create shards\n",
    "shards = {k:d for k, d in chStsGDF.groupby('st_label')}\n",
    "\n",
    "# Get the nearest roadbed to each sign where the street name is the same\n",
    "chStSignsGDF = chSignsGDF.groupby(\"on_street\", group_keys=True).apply(lambda d: gpd.sjoin_nearest(d, shards[d[\"on_street\"].values[0]], how = 'inner'))\n",
    "\n",
    "# Join the sjoined GeoDataFrame with the roadbeds geometry (geometry from right GDF is dropped in sjoin)\n",
    "chStSignsGDF = pd.merge(chStSignsGDF, chStsGDF[['physicalid','geometry']], how = 'outer', on='physicalid')"
   ]
  },
  {
   "cell_type": "code",
   "execution_count": 255,
   "id": "69988a28",
   "metadata": {},
   "outputs": [],
   "source": [
    "chStSignsGDF_geom.to_csv('chStSigns_clean.csv')"
   ]
  }
 ],
 "metadata": {
  "kernelspec": {
   "display_name": "Python 3 (ipykernel)",
   "language": "python",
   "name": "python3"
  },
  "language_info": {
   "codemirror_mode": {
    "name": "ipython",
    "version": 3
   },
   "file_extension": ".py",
   "mimetype": "text/x-python",
   "name": "python",
   "nbconvert_exporter": "python",
   "pygments_lexer": "ipython3",
   "version": "3.10.5"
  }
 },
 "nbformat": 4,
 "nbformat_minor": 5
}
